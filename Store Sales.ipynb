{
 "cells": [
  {
   "cell_type": "code",
   "execution_count": 23,
   "id": "2dad011a-861e-4707-b458-113bb278da5a",
   "metadata": {},
   "outputs": [],
   "source": [
    "import psycopg2"
   ]
  },
  {
   "cell_type": "code",
   "execution_count": 24,
   "id": "4809dddd-5287-479a-96fa-029201482429",
   "metadata": {},
   "outputs": [],
   "source": [
    "conn=psycopg2.connect(\n",
    "    host='localhost',\n",
    "    user='postgres',\n",
    "    password='1234',\n",
    "    dbname='Store Sales',\n",
    "    port=5432\n",
    ")"
   ]
  },
  {
   "cell_type": "code",
   "execution_count": 25,
   "id": "de99554e-0452-424e-aef6-e2d59d95d3ff",
   "metadata": {},
   "outputs": [],
   "source": [
    "cur=conn.cursor()"
   ]
  },
  {
   "cell_type": "code",
   "execution_count": 27,
   "id": "b4a9c0e8-9a0f-4c7a-9682-91fa65817174",
   "metadata": {},
   "outputs": [
    {
     "name": "stdout",
     "output_type": "stream",
     "text": [
      "None\n"
     ]
    }
   ],
   "source": [
    "conn.rollback()\n",
    "print(cur.execute('select * from customers'))"
   ]
  },
  {
   "cell_type": "code",
   "execution_count": null,
   "id": "09403f61-1dda-407d-8954-9bbeeb6b9736",
   "metadata": {},
   "outputs": [],
   "source": [
    "students=cur.fetchall()\n",
    "print(stud)"
   ]
  },
  {
   "cell_type": "code",
   "execution_count": 2,
   "id": "721fbe39-c96e-4250-9370-98b46b5fc6a2",
   "metadata": {},
   "outputs": [
    {
     "name": "stdout",
     "output_type": "stream",
     "text": [
      "اتصال به PostgreSQL با موفقیت برقرار شد.\n",
      "در حال کپی کردن داده‌ها از فایل: holidays_events.csv به جدول: holidays_events...\n",
      "خطا: فایل 'holidays_events.csv' پیدا نشد. لطفا مسیر را بررسی کنید.\n",
      "در حال کپی کردن داده‌ها از فایل: oil.csv به جدول: oil...\n",
      "خطا: فایل 'oil.csv' پیدا نشد. لطفا مسیر را بررسی کنید.\n",
      "در حال کپی کردن داده‌ها از فایل: sample_submission.csv به جدول: sample_submission...\n",
      "خطا: فایل 'sample_submission.csv' پیدا نشد. لطفا مسیر را بررسی کنید.\n",
      "در حال کپی کردن داده‌ها از فایل: stores.csv به جدول: stores...\n",
      "خطا: فایل 'stores.csv' پیدا نشد. لطفا مسیر را بررسی کنید.\n",
      "در حال کپی کردن داده‌ها از فایل: test.csv به جدول: test...\n",
      "خطا: فایل 'test.csv' پیدا نشد. لطفا مسیر را بررسی کنید.\n",
      "در حال کپی کردن داده‌ها از فایل: train.csv به جدول: train...\n",
      "خطا: فایل 'train.csv' پیدا نشد. لطفا مسیر را بررسی کنید.\n",
      "در حال کپی کردن داده‌ها از فایل: transactions.csv به جدول: transactions...\n",
      "خطا: فایل 'transactions.csv' پیدا نشد. لطفا مسیر را بررسی کنید.\n",
      "\n",
      "اتصال به پایگاه داده بسته شد.\n"
     ]
    }
   ],
   "source": [
    "import psycopg2\n",
    "import os # برای مدیریت مسیر فایل\n",
    "\n",
    "# تنظیمات اتصال\n",
    "DB_HOST = 'localhost'\n",
    "DB_NAME = 'Store Sales'\n",
    "DB_USER = 'postgres'\n",
    "DB_PASS = '1234' # !!! رمز عبور خودت رو اینجا وارد کن !!!\n",
    "DB_PORT = '5432'\n",
    "\n",
    "csv_files = {\n",
    "    'holidays_events': 'holidays_events.csv',\n",
    "    'oil': 'oil.csv',\n",
    "    'sample_submission': 'sample_submission.csv',\n",
    "    'stores': 'stores.csv',\n",
    "    'test': 'test.csv',\n",
    "    'train': 'train.csv',\n",
    "    'transactions': 'transactions.csv'\n",
    "}\n",
    "\n",
    "try:\n",
    "    conn = psycopg2.connect(host=DB_HOST, database=DB_NAME, user=DB_USER, password=DB_PASS, port=DB_PORT)\n",
    "    cur = conn.cursor()\n",
    "    print(\"اتصال به PostgreSQL با موفقیت برقرار شد.\")\n",
    "\n",
    "    for table_name, file_path in csv_files.items():\n",
    "        print(f\"در حال کپی کردن داده‌ها از فایل: {file_path} به جدول: {table_name}...\")\n",
    "        try:\n",
    "            # گام 1: ابتدا جدول را ایجاد یا بازسازی کنید (اختیاری اما توصیه می‌شود)\n",
    "            # این قسمت نیاز به دقت در تعریف نوع داده‌ها دارد\n",
    "            # مثال برای جدول holidays_events: (شما باید برای هر جدول این را تغییر دهید)\n",
    "            if table_name == 'holidays_events':\n",
    "                cur.execute(f\"\"\"\n",
    "                    DROP TABLE IF EXISTS {table_name};\n",
    "                    CREATE TABLE {table_name} (\n",
    "                        date DATE,\n",
    "                        type VARCHAR(50),\n",
    "                        locale VARCHAR(50),\n",
    "                        locale_name VARCHAR(50),\n",
    "                        description TEXT,\n",
    "                        transferred BOOLEAN\n",
    "                    );\n",
    "                \"\"\")\n",
    "            # شما باید برای هر جدول، دستور CREATE TABLE مناسب آن را بنویسید\n",
    "            # یا این بخش را حذف کرده و جدول‌ها را از قبل به صورت دستی بسازید\n",
    "\n",
    "            with open(file_path, 'r') as f:\n",
    "                # skip_header=True برای پرش از سطر اول (هدر) فایل CSV\n",
    "                cur.copy_from(f, table_name, sep=',', null='', size=8192) # null='' برای مقادیر خالی\n",
    "            conn.commit()\n",
    "            print(f\"داده‌های جدول '{table_name}' با موفقیت کپی شدند.\")\n",
    "\n",
    "        except FileNotFoundError:\n",
    "            print(f\"خطا: فایل '{file_path}' پیدا نشد. لطفا مسیر را بررسی کنید.\")\n",
    "        except psycopg2.errors.UndefinedTable:\n",
    "            print(f\"خطا: جدول '{table_name}' در پایگاه داده PostgreSQL وجود ندارد یا ساختار آن اشتباه است. لطفاً ابتدا جدول را ایجاد کنید.\")\n",
    "            conn.rollback() # برگشت به حالت قبل از خطا\n",
    "        except Exception as e:\n",
    "            print(f\"خطا در کپی کردن داده از '{file_path}': {e}\")\n",
    "            conn.rollback() # برگشت به حالت قبل از خطا\n",
    "\n",
    "except Exception as e:\n",
    "    print(f\"خطا در اتصال کلی به PostgreSQL: {e}\")\n",
    "finally:\n",
    "    if 'conn' in locals() and conn:\n",
    "        cur.close()\n",
    "        conn.close()\n",
    "        print(\"\\nاتصال به پایگاه داده بسته شد.\")"
   ]
  },
  {
   "cell_type": "code",
   "execution_count": null,
   "id": "4256d6a4-9182-489c-bcd0-a84f289ccbac",
   "metadata": {},
   "outputs": [],
   "source": []
  },
  {
   "cell_type": "code",
   "execution_count": null,
   "id": "bfc95cec-eec1-4ba4-98af-d7d51c761854",
   "metadata": {},
   "outputs": [],
   "source": []
  }
 ],
 "metadata": {
  "kernelspec": {
   "display_name": "Python 3 (ipykernel)",
   "language": "python",
   "name": "python3"
  },
  "language_info": {
   "codemirror_mode": {
    "name": "ipython",
    "version": 3
   },
   "file_extension": ".py",
   "mimetype": "text/x-python",
   "name": "python",
   "nbconvert_exporter": "python",
   "pygments_lexer": "ipython3",
   "version": "3.11.11"
  }
 },
 "nbformat": 4,
 "nbformat_minor": 5
}
